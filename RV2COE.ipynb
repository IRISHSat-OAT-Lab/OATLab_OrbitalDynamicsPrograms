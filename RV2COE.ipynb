{
 "cells": [
  {
   "cell_type": "markdown",
   "id": "cb8bb278",
   "metadata": {},
   "source": [
    "# Orbital Elements from Position and Velocity\n",
    "##### Vallado Algorithm 9 (from pg 113)\n",
    "##### RV2COE(r, v --> a, e, i, capOmega, omega, nu)\n",
    "\n",
    "****\n",
    "Inputs: \n",
    "* r: position vector (km)\n",
    "* v: velocity vector (m/s)\n",
    "\n",
    "****\n",
    "\n",
    "Outputs:\n",
    "- a: semimajor axis (km)   (SIZE)\n",
    "- e: eccentricity          (SHAPE)\n",
    "- i: inclination             (TILT)\n",
    "- capOmega: longitude of ascending node  (PIN)\n",
    "- omega: argument of periapsis     (TWIST)\n",
    "- nu: true anomaly         (ANGLE NOW)"
   ]
  },
  {
   "cell_type": "code",
   "execution_count": 159,
   "id": "6a7cda1c",
   "metadata": {},
   "outputs": [],
   "source": [
    "import numpy as np\n",
    "import scipy.optimize as scio\n",
    "import matplotlib.pyplot as plt\n",
    "import math"
   ]
  },
  {
   "cell_type": "code",
   "execution_count": 186,
   "id": "9e3f752d",
   "metadata": {},
   "outputs": [],
   "source": [
    "## Global variables and constants\n",
    "\n",
    "# Standard gravitational parameter of Earth (3.986*10^14 m^3*s^-2)\n",
    "# Multiplied by 10e-9 to convert to km^3*s^-2\n",
    "mu = 3.986004418 * 10.0**14 * (10**(-9)) # km^3 / s^2\n",
    "\n",
    "K = [0, 0, 1]"
   ]
  },
  {
   "cell_type": "code",
   "execution_count": 187,
   "id": "09e2fae3",
   "metadata": {},
   "outputs": [],
   "source": [
    "def angular_momentum(position,velocity):\n",
    "    \n",
    "    r = position\n",
    "    v = velocity\n",
    "    \n",
    "    h = np.cross(r,v)\n",
    "    \n",
    "    return h"
   ]
  },
  {
   "cell_type": "code",
   "execution_count": 188,
   "id": "65dce27e",
   "metadata": {},
   "outputs": [],
   "source": [
    "def node_vector(angular_momentum):\n",
    "    \n",
    "    h = angular_momentum\n",
    "    n_hat = np.cross(K,h)\n",
    "    \n",
    "    return n_hat"
   ]
  },
  {
   "cell_type": "code",
   "execution_count": 189,
   "id": "85131978",
   "metadata": {},
   "outputs": [],
   "source": [
    "def eccentricity_v(position, velocity):\n",
    "\n",
    "    r = position\n",
    "    v = velocity\n",
    "    \n",
    "    a = 1.0 / mu\n",
    "    b = np.multiply(((np.linalg.norm(v) ** 2)-(mu / np.linalg.norm(r))) , r)\n",
    "    c = np.multiply((np.dot(r, v)) , v)\n",
    "    d = b-c\n",
    "    i = np.multiply(d, a)\n",
    "    \n",
    "    ev = i\n",
    "    \n",
    "    return ev"
   ]
  },
  {
   "cell_type": "code",
   "execution_count": 190,
   "id": "4f7ca3d4",
   "metadata": {},
   "outputs": [],
   "source": [
    "def specific_mechanical_energy(position, velocity):\n",
    "\n",
    "    r = position\n",
    "    v = velocity\n",
    "    \n",
    "    mech_e = (np.linalg.norm(v)**2)/2 - (mu/np.linalg.norm(r))\n",
    "    \n",
    "    return mech_e"
   ]
  },
  {
   "cell_type": "code",
   "execution_count": 191,
   "id": "13a3ddb1",
   "metadata": {},
   "outputs": [],
   "source": [
    "def elements_from_r_v(position, velocity):\n",
    "\n",
    "    r = position\n",
    "    v = velocity\n",
    "\n",
    "    h = angular_momentum(r, v)\n",
    "    n = node_vector(h)\n",
    "\n",
    "    ev = eccentricity_v(r, v)\n",
    "    e = np.linalg.norm(ev)\n",
    "    \n",
    "    E = specific_mechanical_energy(r, v)\n",
    "    \n",
    "    \n",
    "    if e != 1.0:\n",
    "        a = -mu / (2 * E)\n",
    "        p = a * (1 - e ** 2)\n",
    "    else: \n",
    "        a = np.inf\n",
    "        p = h ** 2 / mu\n",
    "        \n",
    "    #Inclination\n",
    "    i = (180/math.pi)*np.arccos(h[2]/np.linalg.norm(h))\n",
    "    \n",
    "    #Longitude of Ascending Node\n",
    "    omega = (180/math.pi)*np.arccos(n[0]/np.linalg.norm(n))\n",
    "    \n",
    "    if n[1] < 0:\n",
    "        omega = 360 - omega\n",
    "    \n",
    "    #Argument of Periapsis\n",
    "    argp = (180/math.pi)*np.arccos((np.dot(ev, n))/(np.linalg.norm(ev)*np.linalg.norm(n)))\n",
    "    \n",
    "    if ev[2] < 0:\n",
    "        argp = 360 - argp\n",
    "    \n",
    "    # True Anomaly\n",
    "    nu = (180/math.pi)*np.arccos((np.dot(ev, r))/(np.linalg.norm(ev)*np.linalg.norm(r))) \n",
    "    \n",
    "    if (np.dot(r, v)) < 0:\n",
    "        nu = 360 - nu\n",
    "        \n",
    "    return a, e, i, omega, argp, nu"
   ]
  },
  {
   "cell_type": "code",
   "execution_count": 216,
   "id": "578c0825",
   "metadata": {},
   "outputs": [],
   "source": [
    "def printElements(orbElements):\n",
    "    \n",
    "    # Convert tuple to list\n",
    "    orbElements = list(orbElements)\n",
    "    \n",
    "    # Round each element to three decimals\n",
    "    for i, element in enumerate(orbElements):\n",
    "        orbElements[i] = float(\"{:.3f}\".format(element))\n",
    "    \n",
    "    print('Semi major axis: ' + str(orbElements[0]) + ' km')\n",
    "    print('Eccentricity: ' + str(orbElements[1]))\n",
    "    print('Incline: ' + str(orbElements[2]) + ' degrees')\n",
    "    print('Longitude of Ascending Node: ' + str(orbElements[3]) + ' degrees')\n",
    "    print('Argument of Periapsis: ' + str(orbElements[4]) + ' degrees')\n",
    "    print('True Anomaly: ' + str(orbElements[5]) + ' degrees')"
   ]
  },
  {
   "cell_type": "code",
   "execution_count": 217,
   "id": "13b68c59",
   "metadata": {},
   "outputs": [
    {
     "name": "stdout",
     "output_type": "stream",
     "text": [
      "Semi major axis: 36127.338 km\n",
      "Eccentricity: 0.833\n",
      "Incline: 87.869 degrees\n",
      "Longitude of Ascending Node: 227.898 degrees\n",
      "Argument of Periapsis: 53.385 degrees\n",
      "True Anomaly: 92.335 degrees\n"
     ]
    }
   ],
   "source": [
    "# Test verification with example on page 114 of Vallado book\n",
    "r = [6524.834, 6862.875, 6448.296]\n",
    "v = [4.901327, 5.533756, -1.976341]\n",
    "\n",
    "orbElements = elements_from_r_v(r, v)\n",
    "printElements(orbElements)"
   ]
  }
 ],
 "metadata": {
  "kernelspec": {
   "display_name": "Python 3",
   "language": "python",
   "name": "python3"
  },
  "language_info": {
   "codemirror_mode": {
    "name": "ipython",
    "version": 3
   },
   "file_extension": ".py",
   "mimetype": "text/x-python",
   "name": "python",
   "nbconvert_exporter": "python",
   "pygments_lexer": "ipython3",
   "version": "3.8.8"
  }
 },
 "nbformat": 4,
 "nbformat_minor": 5
}
