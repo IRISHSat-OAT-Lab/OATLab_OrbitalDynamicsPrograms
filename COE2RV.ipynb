{
 "cells": [
  {
   "cell_type": "markdown",
   "id": "2e695237",
   "metadata": {},
   "source": [
    "# Position and Velocity from Orbital Elements\n",
    "##### Vallado Algorithm 10 (from pg 118)\n",
    "##### COE2RV(p, e, i, capOmega, omega, nu (lambda_true, mu, omegaHat_true) --> r, v)\n",
    "\n",
    "****\n",
    "Inputs: \n",
    "\n",
    "* p: semiparameter (km)   (SIZE)\n",
    "* e: eccentricity          (SHAPE)\n",
    "* i: inclination             (TILT)\n",
    "* capOmega: longitude of ascending node  (PIN)\n",
    "* omega: argument of periapsis     (TWIST)\n",
    "* nu: true anomaly         (ANGLE NOW)\n",
    "\n",
    "****\n",
    "\n",
    "Outputs:\n",
    "\n",
    "- r: position vector (km)\n",
    "- v: velocity vector (m/s)\n",
    "\n",
    "r and v vectors are with respect to the geocentric equatorial frame\n",
    "\n",
    "****\n",
    "\n",
    "Other relations\n",
    "- true longitude ≈ longitude of ascending node + argument of periapsis + true anomaly\n",
    "- argument of latitude = argument of periapsis + true anomaly\n",
    "- true longitude of periapsis ≈ longitude of ascending node + argument of periapsis \n"
   ]
  },
  {
   "cell_type": "code",
   "execution_count": 149,
   "id": "ebbc1afb",
   "metadata": {},
   "outputs": [],
   "source": [
    "import numpy as np\n",
    "import scipy.optimize as scio\n",
    "import matplotlib.pyplot as plt\n",
    "import math"
   ]
  },
  {
   "cell_type": "code",
   "execution_count": 150,
   "id": "0d410e66",
   "metadata": {},
   "outputs": [],
   "source": [
    "## Global variables and constants\n",
    "\n",
    "# Standard gravitational parameter of Earth (3.986*10^14 m^3*s^-2)\n",
    "# Multiplied by 10e-9 to convert to km^3*s^-2\n",
    "mu = 3.986004418 * 10.0**14 * (10**(-9)) # km^3 / s^2\n",
    "\n",
    "# I or x unit vector\n",
    "I = np.array([1, 0, 0])"
   ]
  },
  {
   "cell_type": "code",
   "execution_count": 151,
   "id": "4939326b",
   "metadata": {},
   "outputs": [],
   "source": [
    "## Rotation functions\n",
    "\n",
    "# Rotation around 1st component of 3-vector\n",
    "# in x, y, z coordinates, this would rotation of system around x\n",
    "def ROT1_func(rads):\n",
    "    \n",
    "    ROT1 = np.array([[1, 0, 0],\n",
    "           [0, math.cos(rads), math.sin(rads)],\n",
    "           [0, -math.sin(rads), math.cos(rads)]], dtype = object)\n",
    "    \n",
    "    return ROT1\n",
    "\n",
    "# Rotation around 3rd component of 3-vector\n",
    "# in x, y, z coordinates, this would rotation of system around z\n",
    "def ROT3_func(rads):\n",
    "    \n",
    "    ROT3 = np.array([[math.cos(rads), math.sin(rads), 0],\n",
    "           [-math.sin(rads), math.cos(rads), 0],\n",
    "           [0, 0, 1]], dtype = object)\n",
    "    \n",
    "    return ROT3"
   ]
  },
  {
   "cell_type": "code",
   "execution_count": 152,
   "id": "51184546",
   "metadata": {},
   "outputs": [],
   "source": [
    "# Special coordinates, used for special cases\n",
    "def specialOE_func(p, e, i, capOmega, omega, nu):\n",
    "    \n",
    "    # Allocate memory\n",
    "    specialOE = np.zeros(3)\n",
    "    \n",
    "    # True longtitude\n",
    "    specialOE[0] = math.radians(capOmega + omega + nu)\n",
    "    \n",
    "    # Argument of longtitude\n",
    "    specialOE[1] = math.radians(omega + nu)\n",
    "    \n",
    "    # True longtitude of periapsis\n",
    "    specialOE[2] = math.radians(capOmega + omega)\n",
    "    \n",
    "    return specialOE"
   ]
  },
  {
   "cell_type": "code",
   "execution_count": 153,
   "id": "7ea46a7f",
   "metadata": {},
   "outputs": [],
   "source": [
    "# Convert orbital elements to r and v in PQW coordinates\n",
    "def elements_rv(p, e, i, capOmega, omega, nu, specialOE):\n",
    "    \n",
    "    # Allocate memory for vectors\n",
    "    r_pqw = np.zeros(3)  \n",
    "    v_pqw = np.zeros(3)\n",
    "    \n",
    "    # If Circular Equatorial\n",
    "    if e == 0 and i == 0:\n",
    "        omega, capOmega = 0.0\n",
    "        nu = specialOE[0]\n",
    "    \n",
    "    # If Circular Inclined\n",
    "    if e == 0 and i > 0:\n",
    "        omega = 0.0\n",
    "        nu = specialOE[1]\n",
    "    \n",
    "    # If Elliptical Equatorial\n",
    "    if e > 0 and i == 0:\n",
    "        capOmega = 0\n",
    "        omega = specialOE[2]\n",
    "        \n",
    "    r_pqw[0] = (p*math.cos(nu))/(1+e*math.cos(nu))\n",
    "    r_pqw[1] = (p*math.sin(nu))/(1+e*math.cos(nu))\n",
    "    r_pqw[2] = 0\n",
    "    \n",
    "    v_pqw[0] = -((mu/p)**(1/2))*math.sin(nu)\n",
    "    v_pqw[1] = ((mu/p)**(1/2))*(e+math.cos(nu))\n",
    "    v_pqw[2] = 0\n",
    "    \n",
    "    return r_pqw, v_pqw"
   ]
  },
  {
   "cell_type": "code",
   "execution_count": 157,
   "id": "c250616d",
   "metadata": {},
   "outputs": [],
   "source": [
    "# Convert r and v vectors in PQW coordinates to IJK coordinates\n",
    "# in the geocentric equatorial frame\n",
    "def PQW_ijk(r_pqw, v_pqw):\n",
    "    \n",
    "    A = ROT3_func(-capOmega)\n",
    "    B = ROT1_func(-i)\n",
    "    C = ROT3_func(-omega)\n",
    "    \n",
    "    IJK_PQW = np.matmul(A, np.matmul(B, C))\n",
    "    \n",
    "    r_ijk = np.matmul(IJK_PQW, r_pqw)\n",
    "    v_ijk = np.matmul(IJK_PQW, v_pqw)\n",
    "    \n",
    "    return r_ijk, v_ijk"
   ]
  },
  {
   "cell_type": "code",
   "execution_count": 158,
   "id": "a4e2370a",
   "metadata": {},
   "outputs": [],
   "source": [
    "def print_rv(r, v):\n",
    "    \n",
    "    r = list(r)\n",
    "    v = list(v)\n",
    "    \n",
    "    for i, component in enumerate(r):\n",
    "        r[i] = float(\"{:.3f}\".format(component))\n",
    "    \n",
    "    for i, component in enumerate(v):\n",
    "        v[i] = float(\"{:.3f}\".format(component))\n",
    "    \n",
    "    print(\"Geocentric equatorial position vector: \")\n",
    "    for component in r:\n",
    "        print(\"  \" + str(component) + \" km\")\n",
    "        \n",
    "    print(\" \")\n",
    "    print(\"Geocentric equatorial velocity vector: \")\n",
    "    for component in v:\n",
    "        print(\"  \" + str(component) + \" km/s\")"
   ]
  },
  {
   "cell_type": "code",
   "execution_count": 159,
   "id": "d9e6f6bb",
   "metadata": {},
   "outputs": [
    {
     "name": "stdout",
     "output_type": "stream",
     "text": [
      "Geocentric equatorial position vector: \n",
      "  6525.368 km\n",
      "  6861.532 km\n",
      "  6449.119 km\n",
      " \n",
      "Geocentric equatorial velocity vector: \n",
      "  4.902 km/s\n",
      "  5.533 km/s\n",
      "  -1.976 km/s\n"
     ]
    }
   ],
   "source": [
    "# Test case, taken from example 2-6 of Vallado (pg 119)\n",
    "p = 11067.790\n",
    "e = 0.83285\n",
    "\n",
    "# Orbital elements in degrees converted to radians\n",
    "# as trig functions from math library take in only radians\n",
    "i = math.radians(87.87)\n",
    "capOmega = math.radians(227.89)\n",
    "omega = math.radians(53.38)\n",
    "nu = math.radians(92.335)\n",
    "\n",
    "specialOE = specialOE_func(p, e, i, capOmega, omega, nu)\n",
    "r_pqw, v_pqw = elements_rv(p, e, i, capOmega, omega, nu, specialOE)\n",
    "r_ijk, v_ijk = PQW_ijk(r_pqw, v_pqw)\n",
    "\n",
    "print_rv(r_ijk, v_ijk)"
   ]
  }
 ],
 "metadata": {
  "kernelspec": {
   "display_name": "Python 3",
   "language": "python",
   "name": "python3"
  },
  "language_info": {
   "codemirror_mode": {
    "name": "ipython",
    "version": 3
   },
   "file_extension": ".py",
   "mimetype": "text/x-python",
   "name": "python",
   "nbconvert_exporter": "python",
   "pygments_lexer": "ipython3",
   "version": "3.8.8"
  }
 },
 "nbformat": 4,
 "nbformat_minor": 5
}
