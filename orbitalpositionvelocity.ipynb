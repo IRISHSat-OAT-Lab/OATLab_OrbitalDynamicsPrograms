{
 "cells": [
  {
   "cell_type": "markdown",
   "id": "ba487472",
   "metadata": {},
   "source": [
    "VALLADO ALGORITHM 9 (pg 113)\n",
    "RV2COE(r, v --> a, e, i, capOmega, omega, nu)\n",
    "\n",
    "Inputs: \n",
    "\n",
    "r - position vector (m)\n",
    "\n",
    "v - velocity vector (m/s)\n",
    "\n",
    "\n",
    "Outputs:\n",
    "\n",
    "a - semimajor axis (m)   (SIZE)\n",
    "\n",
    "e - eccentricity          (SHAPE)\n",
    "\n",
    "i - inclination             (TILT)\n",
    "\n",
    "capOmega - longitude of ascending node  (PIN)\n",
    "\n",
    "omega - argument of periapsis     (TWIST)\n",
    "\n",
    "nu - true anomaly         (ANGLE NOW)"
   ]
  },
  {
   "cell_type": "code",
   "execution_count": 137,
   "id": "6a7cda1c",
   "metadata": {},
   "outputs": [],
   "source": [
    "import numpy as np\n",
    "import scipy.optimize as scio\n",
    "import matplotlib.pyplot as plt\n",
    "import math"
   ]
  },
  {
   "cell_type": "code",
   "execution_count": 138,
   "id": "09e2fae3",
   "metadata": {},
   "outputs": [],
   "source": [
    "def angular_momentum(position,velocity):\n",
    "    \n",
    "    r = position\n",
    "    v = velocity\n",
    "    \n",
    "    h = np.cross(r,v)\n",
    "    \n",
    "    return h"
   ]
  },
  {
   "cell_type": "code",
   "execution_count": 139,
   "id": "65dce27e",
   "metadata": {},
   "outputs": [],
   "source": [
    "def node_vector(angular_momentum):\n",
    "    \n",
    "    h = angular_momentum\n",
    "    \n",
    "    n_hat = np.cross([0,0,1],h)\n",
    "    \n",
    "    return n_hat"
   ]
  },
  {
   "cell_type": "code",
   "execution_count": 145,
   "id": "85131978",
   "metadata": {},
   "outputs": [],
   "source": [
    "def eccentricity_v(position, velocity):\n",
    "\n",
    "    r = position\n",
    "    v = velocity\n",
    "    \n",
    "    \n",
    "    # Which standard gravitational parameter are we using here?\n",
    "    mu = 3.986004418 * 10.0**11\n",
    "    \n",
    "    # ev = 1.0 / mu * ([np.linalg.norm(v) ** 2 - mu / np.linalg.norm(r)] * r - np.dot(r, v) * v)\n",
    "    \n",
    "    a = 1.0 / mu\n",
    "    b = np.multiply(((np.linalg.norm(v) ** 2)-(mu / np.linalg.norm(r))) , r)\n",
    "    c = np.multiply((np.dot(r, v)) , v)\n",
    "    d = b-c\n",
    "    i = np.multiply(d, a)\n",
    "    \n",
    "    ev = i\n",
    "    \n",
    "    return ev"
   ]
  },
  {
   "cell_type": "code",
   "execution_count": 146,
   "id": "4f7ca3d4",
   "metadata": {},
   "outputs": [],
   "source": [
    "def specific_mechanical_energy(position, velocity):\n",
    "\n",
    "    r = position\n",
    "    v = velocity\n",
    "    \n",
    "    mu = 3.986004418 * 10.0**11\n",
    "    \n",
    "    mech_e = (np.linalg.norm(v)**2)/2 - (mu/np.linalg.norm(r))\n",
    "    \n",
    "    return mech_e"
   ]
  },
  {
   "cell_type": "code",
   "execution_count": 147,
   "id": "13a3ddb1",
   "metadata": {},
   "outputs": [],
   "source": [
    "def elements_from_r_v(position, velocity):\n",
    "\n",
    "    r = position\n",
    "    v = velocity\n",
    "    \n",
    "    mu = 3.986004418 * 10.0**11\n",
    "\n",
    "    h = angular_momentum(r, v)\n",
    "    n = node_vector(h)\n",
    "\n",
    "    ev = eccentricity_v(r, v)\n",
    "    e = np.linalg.norm(ev)\n",
    "    \n",
    "    E = specific_mechanical_energy(r, v)\n",
    "    \n",
    "    \n",
    "    if e != 1.0:\n",
    "        a = -mu / (2 * E)\n",
    "        p = a * (1 - e ** 2)\n",
    "    else: \n",
    "        a = np.inf\n",
    "        p = h ** 2 / mu\n",
    "        \n",
    "    #Inclination\n",
    "    i = (180/math.pi)*np.arccos(h[2]/np.linalg.norm(h))\n",
    "    \n",
    "    #Longitude of Ascending Node\n",
    "    omega = (180/math.pi)*np.arccos(n[0]/np.linalg.norm(n))\n",
    "    \n",
    "    if n[1] > 0:\n",
    "        omega = 360 - omega\n",
    "    \n",
    "    #Argument of Periapsis\n",
    "    argp = (180/math.pi)*np.arccos((np.dot(ev, n))/(np.linalg.norm(ev)*np.linalg.norm(n)))\n",
    "    \n",
    "    if ev[2] < 0:\n",
    "        argp = 360 - argp\n",
    "    \n",
    "    # True Anomaly\n",
    "    nu = (180/math.pi)*np.arccos((np.dot(ev, r))/(np.linalg.norm(ev)*np.linalg.norm(r))) \n",
    "    \n",
    "    if (np.dot(r, v)) < 0:\n",
    "        nu = 360 - nu\n",
    "        \n",
    "    return a, e, i, omega, argp, nu"
   ]
  },
  {
   "cell_type": "code",
   "execution_count": 148,
   "id": "02760f1a",
   "metadata": {},
   "outputs": [],
   "source": [
    "def printElements(orbElements):\n",
    "    print('Semi major axis : ' + str(orbElements[0]))\n",
    "    print('Eccentricity : ' + str(orbElements[1]))\n",
    "    print('Incline - ' + str(orbElements[2]))\n",
    "    print('Longitude of Ascending Node - ' + str(orbElements[3]))\n",
    "    print('Argument of Periapsis - ' + str(orbElements[4]))\n",
    "    print('True Anomaly - ' + str(orbElements[5]))"
   ]
  },
  {
   "cell_type": "code",
   "execution_count": 149,
   "id": "13b68c59",
   "metadata": {},
   "outputs": [
    {
     "name": "stdout",
     "output_type": "stream",
     "text": [
      "Semi major axis : 5728.290630298267\n",
      "Eccentricity : 0.9999990339348679\n",
      "Incline - 87.86912617702644\n",
      "Longitude of Ascending Node - 132.1017396427263\n",
      "Argument of Periapsis - 325.72013506000116\n",
      "True Anomaly - 179.99995231079944\n",
      "[-0.56952737 -0.59903371 -0.56284568]\n"
     ]
    }
   ],
   "source": [
    "r = [6524.834, 6862.875, 6448.296]\n",
    "v = [4.901327, 5.533756, -1.976341]\n",
    "\n",
    "orbElements = elements_from_r_v(r, v)\n",
    "printElements(orbElements)\n",
    "print(eccentricity_v(r, v))"
   ]
  },
  {
   "cell_type": "code",
   "execution_count": null,
   "id": "5da0b51d",
   "metadata": {},
   "outputs": [],
   "source": [
    "# I'm holding out for a Drew Langford till the end of the night"
   ]
  }
 ],
 "metadata": {
  "kernelspec": {
   "display_name": "Python 3",
   "language": "python",
   "name": "python3"
  },
  "language_info": {
   "codemirror_mode": {
    "name": "ipython",
    "version": 3
   },
   "file_extension": ".py",
   "mimetype": "text/x-python",
   "name": "python",
   "nbconvert_exporter": "python",
   "pygments_lexer": "ipython3",
   "version": "3.8.8"
  }
 },
 "nbformat": 4,
 "nbformat_minor": 5
}
