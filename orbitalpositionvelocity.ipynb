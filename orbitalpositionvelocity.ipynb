{
 "cells": [
  {
   "cell_type": "code",
   "execution_count": 93,
   "id": "6a7cda1c",
   "metadata": {},
   "outputs": [],
   "source": [
    "import numpy as np\n",
    "import scipy.optimize as scio\n",
    "import matplotlib.pyplot as plt\n",
    "import math"
   ]
  },
  {
   "cell_type": "code",
   "execution_count": 94,
   "id": "09e2fae3",
   "metadata": {},
   "outputs": [],
   "source": [
    "def angular_momentum(position,velocity):\n",
    "    \n",
    "    r = position\n",
    "    v = velocity\n",
    "    \n",
    "    h = np.cross(r,v)\n",
    "    \n",
    "    return h"
   ]
  },
  {
   "cell_type": "code",
   "execution_count": 95,
   "id": "65dce27e",
   "metadata": {},
   "outputs": [],
   "source": [
    "def node_vector(angular_momentum):\n",
    "    \n",
    "    h = angular_momentum\n",
    "    \n",
    "    n_hat = np.cross([0,0,1],h)\n",
    "    \n",
    "    return n_hat"
   ]
  },
  {
   "cell_type": "code",
   "execution_count": 96,
   "id": "85131978",
   "metadata": {},
   "outputs": [],
   "source": [
    "def eccentricity_v(position, velocity):\n",
    "\n",
    "    r = position\n",
    "    v = velocity\n",
    "    \n",
    "    mu = 3.986004418 * 10.0**14\n",
    "    \n",
    "    # ev = 1.0 / mu * ([np.linalg.norm(v) ** 2 - mu / np.linalg.norm(r)] * r - np.dot(r, v) * v)\n",
    "    \n",
    "    a = 1.0 / mu\n",
    "    b = np.multiply(((np.linalg.norm(v) ** 2)-(mu / np.linalg.norm(r))) , r)\n",
    "    c = np.multiply((np.dot(r, v)) , v)\n",
    "    d = a-b\n",
    "    i = np.multiply(a , d)\n",
    "    \n",
    "    ev = i\n",
    "    \n",
    "    return ev"
   ]
  },
  {
   "cell_type": "code",
   "execution_count": 97,
   "id": "4f7ca3d4",
   "metadata": {},
   "outputs": [],
   "source": [
    "def specific_mechanical_energy(position, velocity):\n",
    "\n",
    "    r = position\n",
    "    v = velocity\n",
    "    \n",
    "    mu = 3.986004418 * 10.0**14\n",
    "    \n",
    "    mech_e = (np.linalg.norm(v)**2)/2 - (mu/np.linalg.norm(r))\n",
    "    \n",
    "    return mech_e"
   ]
  },
  {
   "cell_type": "code",
   "execution_count": 102,
   "id": "13a3ddb1",
   "metadata": {},
   "outputs": [],
   "source": [
    "def elements_from_r_v(position, velocity):\n",
    "\n",
    "    r = position\n",
    "    v = velocity\n",
    "    \n",
    "    mu = 3.986004418 * 10.0**14\n",
    "\n",
    "    h = angular_momentum(r, v)\n",
    "    n = node_vector(h)\n",
    "\n",
    "    ev = eccentricity_v(r, v)\n",
    "    e = np.linalg.norm(ev)\n",
    "    \n",
    "    E = specific_mechanical_energy(r, v)\n",
    "    \n",
    "    \n",
    "    if e != 1.0:\n",
    "        a = -mu / (2 * E)\n",
    "        p = a * (1 - e ** 2)\n",
    "    else: \n",
    "        a = np.inf\n",
    "        p = h ** 2 / mu\n",
    "        \n",
    "    #Inclination\n",
    "    i = np.arccos(h[2]/np.linalg.norm(h))\n",
    "    \n",
    "    #Longitude of Ascending Node\n",
    "    omega = np.arccos(n[0]/np.linalg.norm(n))\n",
    "    \n",
    "    #Argument of Periapsis\n",
    "    argp = (180/math.pi)*np.arccos((np.dot(ev, n))/(np.linalg.norm(ev)*np.linalg.norm(n)))\n",
    "    \n",
    "    if np.dot(r, v) < 0:\n",
    "        argp = 360 - argp\n",
    "\n",
    "    return a, e, i, omega, argp"
   ]
  },
  {
   "cell_type": "code",
   "execution_count": 103,
   "id": "13b68c59",
   "metadata": {},
   "outputs": [
    {
     "name": "stdout",
     "output_type": "stream",
     "text": [
      "(484.40686236256465, 0.9999999646113598, 2.1902636096387043, 3.0655784096795418, 134.76976956241361)\n"
     ]
    }
   ],
   "source": [
    "r = [650, 450, 560]\n",
    "v = [120, 12, 4]\n",
    "\n",
    "print(elements_from_r_v(r, v))"
   ]
  },
  {
   "cell_type": "code",
   "execution_count": 90,
   "id": "4d39c292",
   "metadata": {},
   "outputs": [
    {
     "name": "stdout",
     "output_type": "stream",
     "text": [
      "4.91121166312347\n",
      "4.2\n"
     ]
    }
   ],
   "source": [
    "a = [1.0, 0.1, 1.0]\n",
    "b = [2.0, 2.0, 2.0]\n",
    "print(np.linalg.norm(a)*np.linalg.norm(b))\n",
    "print(np.dot(a, b))"
   ]
  },
  {
   "cell_type": "code",
   "execution_count": null,
   "id": "5c76dc43",
   "metadata": {},
   "outputs": [],
   "source": []
  }
 ],
 "metadata": {
  "kernelspec": {
   "display_name": "Python 3",
   "language": "python",
   "name": "python3"
  },
  "language_info": {
   "codemirror_mode": {
    "name": "ipython",
    "version": 3
   },
   "file_extension": ".py",
   "mimetype": "text/x-python",
   "name": "python",
   "nbconvert_exporter": "python",
   "pygments_lexer": "ipython3",
   "version": "3.8.8"
  }
 },
 "nbformat": 4,
 "nbformat_minor": 5
}
